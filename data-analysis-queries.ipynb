{
 "cells": [
  {
   "cell_type": "markdown",
   "metadata": {},
   "source": [
    "# Data Analysis Query\n",
    "\n",
    "This notebook provides sample queries and results for song playback analysis to demonstrate that **ETL is effective** and can provide data in the desired format. For example, what is the number of rows per table in redshift's star schema? What are the most played songs? What is the time of day when the song is most utilized?"
   ]
  },
  {
   "cell_type": "code",
   "execution_count": 29,
   "metadata": {},
   "outputs": [],
   "source": [
    "import configparser\n",
    "import pandas as pd\n",
    "import psycopg2\n",
    "from sql_queries import select_number_rows_queries\n",
    "from sql_queries import aggregation_analysis_queries"
   ]
  },
  {
   "cell_type": "code",
   "execution_count": 6,
   "metadata": {},
   "outputs": [],
   "source": [
    "config = configparser.ConfigParser()\n",
    "config.read('dwh.cfg')\n",
    "\n",
    "conn = psycopg2.connect(\"host={} dbname={} user={} password={} port={}\".format(*config['CLUSTER'].values()))\n",
    "cur = conn.cursor()"
   ]
  },
  {
   "cell_type": "markdown",
   "metadata": {},
   "source": [
    "### The number of rows per table in Redshift\n",
    "\n",
    "Include staging table, fact table and dimensional table"
   ]
  },
  {
   "cell_type": "code",
   "execution_count": 34,
   "metadata": {},
   "outputs": [
    {
     "data": {
      "text/html": [
       "<div>\n",
       "<style scoped>\n",
       "    .dataframe tbody tr th:only-of-type {\n",
       "        vertical-align: middle;\n",
       "    }\n",
       "\n",
       "    .dataframe tbody tr th {\n",
       "        vertical-align: top;\n",
       "    }\n",
       "\n",
       "    .dataframe thead th {\n",
       "        text-align: right;\n",
       "    }\n",
       "</style>\n",
       "<table border=\"1\" class=\"dataframe\">\n",
       "  <thead>\n",
       "    <tr style=\"text-align: right;\">\n",
       "      <th></th>\n",
       "      <th>Count</th>\n",
       "    </tr>\n",
       "  </thead>\n",
       "  <tbody>\n",
       "    <tr>\n",
       "      <th>staging_events</th>\n",
       "      <td>16112</td>\n",
       "    </tr>\n",
       "    <tr>\n",
       "      <th>staging_songs</th>\n",
       "      <td>29792</td>\n",
       "    </tr>\n",
       "    <tr>\n",
       "      <th>songplays</th>\n",
       "      <td>333</td>\n",
       "    </tr>\n",
       "    <tr>\n",
       "      <th>users</th>\n",
       "      <td>104</td>\n",
       "    </tr>\n",
       "    <tr>\n",
       "      <th>songs</th>\n",
       "      <td>14896</td>\n",
       "    </tr>\n",
       "    <tr>\n",
       "      <th>artists</th>\n",
       "      <td>10025</td>\n",
       "    </tr>\n",
       "    <tr>\n",
       "      <th>time</th>\n",
       "      <td>333</td>\n",
       "    </tr>\n",
       "  </tbody>\n",
       "</table>\n",
       "</div>"
      ],
      "text/plain": [
       "                Count\n",
       "staging_events  16112\n",
       "staging_songs   29792\n",
       "songplays         333\n",
       "users             104\n",
       "songs           14896\n",
       "artists         10025\n",
       "time              333"
      ]
     },
     "execution_count": 34,
     "metadata": {},
     "output_type": "execute_result"
    }
   ],
   "source": [
    "results_list = []\n",
    "\n",
    "for query in select_number_rows_queries:\n",
    "    cur.execute(query)\n",
    "    results = cur.fetchall()\n",
    "\n",
    "    for row in results:\n",
    "        results_list.append(row)\n",
    "\n",
    "column_names = [\"Count\"]  \n",
    "df = pd.DataFrame(results_list, columns=column_names)\n",
    "row_names = [\"staging_events\", \"staging_songs\", \"songplays\", \"users\", \"songs\", \"artists\", \"time\" ]  # 用实际的行名替换这些示例行名\n",
    "df.index = row_names\n",
    "df"
   ]
  },
  {
   "cell_type": "markdown",
   "metadata": {},
   "source": [
    "### Most played songs & the time when the song is most utilized"
   ]
  },
  {
   "cell_type": "code",
   "execution_count": 35,
   "metadata": {},
   "outputs": [
    {
     "name": "stdout",
     "output_type": "stream",
     "text": [
      "Most played songs is: You're The One\n",
      "The highest usage time of day by hour is: 17\n"
     ]
    }
   ],
   "source": [
    "results_list = []\n",
    "for query in aggregation_analysis_queries:\n",
    "    cur.execute(query)\n",
    "    results = cur.fetchall()  \n",
    "    for row in results:\n",
    "        results_list.append(row)\n",
    "\n",
    "df = pd.DataFrame(results_list)\n",
    "\n",
    "print('Most played songs is:', df.iloc[0,0])\n",
    "print('The highest usage time of day by hour is:', df.iloc[1,0])"
   ]
  },
  {
   "cell_type": "markdown",
   "metadata": {},
   "source": [
    "### More analysis queries based on analytics teams' requirement"
   ]
  },
  {
   "cell_type": "code",
   "execution_count": null,
   "metadata": {},
   "outputs": [],
   "source": [
    "#"
   ]
  }
 ],
 "metadata": {
  "kernelspec": {
   "display_name": "Python 3",
   "language": "python",
   "name": "python3"
  },
  "language_info": {
   "codemirror_mode": {
    "name": "ipython",
    "version": 3
   },
   "file_extension": ".py",
   "mimetype": "text/x-python",
   "name": "python",
   "nbconvert_exporter": "python",
   "pygments_lexer": "ipython3",
   "version": "3.6.3"
  }
 },
 "nbformat": 4,
 "nbformat_minor": 2
}
